{
 "cells": [
  {
   "cell_type": "markdown",
   "metadata": {},
   "source": [
    "# **Histopathologic Cancer Detection: Model and Evaluation**\n",
    "Saloni Sharma\n",
    "***\n",
    "This notebook includes the model, evaluation and prediction of the test dataset."
   ]
  },
  {
   "cell_type": "code",
   "execution_count": 1,
   "metadata": {},
   "outputs": [],
   "source": [
    "# Libraries\n",
    "import pandas as pd\n",
    "import matplotlib.pyplot as plt\n",
    "%matplotlib inline\n",
    "import numpy as np\n",
    "from numpy.random import seed\n",
    "seed(101)\n",
    "\n",
    "from sklearn.utils import shuffle\n",
    "from sklearn.metrics import confusion_matrix\n",
    "from sklearn.model_selection import train_test_split\n",
    "from sklearn.metrics import roc_curve, auc\n",
    "\n",
    "# Model\n",
    "import tensorflow as tf\n",
    "from tensorflow import keras\n",
    "from tensorflow.keras.preprocessing.image import ImageDataGenerator\n",
    "from tensorflow.keras.models import Sequential\n",
    "from tensorflow.keras.layers import Dense, Dropout, Flatten, BatchNormalization, Activation\n",
    "from tensorflow.keras.layers import Conv2D, MaxPool2D\n",
    "from tensorflow.keras.optimizers import Adam\n",
    "from tensorflow.keras.callbacks import EarlyStopping, ReduceLROnPlateau\n",
    "\n",
    "import cv2\n",
    "import os\n",
    "import shutil"
   ]
  },
  {
   "cell_type": "markdown",
   "metadata": {},
   "source": [
    "Below, I load the dataframes that were generated in the EDA notebook. The train_df.csv file includes the paths to the training images as well as their IDs and labels. The test_df.csv file includes the paths to images and their IDs for the test dataset."
   ]
  },
  {
   "cell_type": "code",
   "execution_count": 2,
   "metadata": {},
   "outputs": [],
   "source": [
    "# Load Files\n",
    "df = pd.read_csv(\"../input/hw5-dataframes/train_df.csv\")\n",
    "test = pd.read_csv(\"../input/hw5-dataframes/test_df.csv\")"
   ]
  },
  {
   "cell_type": "code",
   "execution_count": 3,
   "metadata": {},
   "outputs": [
    {
     "name": "stdout",
     "output_type": "stream",
     "text": [
      "(220023, 3)\n",
      "(57458, 2)\n"
     ]
    }
   ],
   "source": [
    "print(df.shape)\n",
    "print(test.shape)"
   ]
  },
  {
   "cell_type": "code",
   "execution_count": 4,
   "metadata": {},
   "outputs": [
    {
     "data": {
      "text/html": [
       "<div>\n",
       "<style scoped>\n",
       "    .dataframe tbody tr th:only-of-type {\n",
       "        vertical-align: middle;\n",
       "    }\n",
       "\n",
       "    .dataframe tbody tr th {\n",
       "        vertical-align: top;\n",
       "    }\n",
       "\n",
       "    .dataframe thead th {\n",
       "        text-align: right;\n",
       "    }\n",
       "</style>\n",
       "<table border=\"1\" class=\"dataframe\">\n",
       "  <thead>\n",
       "    <tr style=\"text-align: right;\">\n",
       "      <th></th>\n",
       "      <th>path</th>\n",
       "      <th>id</th>\n",
       "      <th>label</th>\n",
       "    </tr>\n",
       "  </thead>\n",
       "  <tbody>\n",
       "    <tr>\n",
       "      <th>0</th>\n",
       "      <td>../input/histopathologic-cancer-detection/trai...</td>\n",
       "      <td>d43c081bafa286f9c1f7e921883f26ceafebc912</td>\n",
       "      <td>1</td>\n",
       "    </tr>\n",
       "    <tr>\n",
       "      <th>1</th>\n",
       "      <td>../input/histopathologic-cancer-detection/trai...</td>\n",
       "      <td>092d0eedebce504847715ee046b6ad74b57599b4</td>\n",
       "      <td>0</td>\n",
       "    </tr>\n",
       "  </tbody>\n",
       "</table>\n",
       "</div>"
      ],
      "text/plain": [
       "                                                path  \\\n",
       "0  ../input/histopathologic-cancer-detection/trai...   \n",
       "1  ../input/histopathologic-cancer-detection/trai...   \n",
       "\n",
       "                                         id  label  \n",
       "0  d43c081bafa286f9c1f7e921883f26ceafebc912      1  \n",
       "1  092d0eedebce504847715ee046b6ad74b57599b4      0  "
      ]
     },
     "execution_count": 4,
     "metadata": {},
     "output_type": "execute_result"
    }
   ],
   "source": [
    "df.head(2)"
   ]
  },
  {
   "cell_type": "markdown",
   "metadata": {},
   "source": [
    "***\n",
    "# **Set Up Before Model**\n",
    "\n",
    "## Training and Validation Sets\n",
    "Below, I create the training and validation sets using the training images provided. Instead of all 220K images, I use 100,000 images in order to have a shorter training time. First, I randomly choose 50K images with label 1 and another 50K images with label 0. This will prevent any significant skew that can be caused by an inherent imbalance in the data distribution. Second, I split the 100K images into the training and validation sets with 80% and 20% of images, respectively."
   ]
  },
  {
   "cell_type": "code",
   "execution_count": 5,
   "metadata": {},
   "outputs": [
    {
     "name": "stdout",
     "output_type": "stream",
     "text": [
      "1    50000\n",
      "0    50000\n",
      "Name: label, dtype: int64\n"
     ]
    }
   ],
   "source": [
    "# Based on https://www.kaggle.com/vbookshelf/cnn-how-to-use-160-000-images-without-crashing\n",
    "\n",
    "N = 50000 #number of images we want per class label\n",
    "\n",
    "# get 50K with label 0, another 50K with label 1\n",
    "df_0 = df[df.label == 0].sample(N, random_state = 101)\n",
    "df_1 = df[df.label == 1].sample(N, random_state = 101)\n",
    "\n",
    "# combine both dataframes into one with 100K\n",
    "df100 = pd.concat([df_0, df_1], axis=0).reset_index(drop=True)\n",
    "print(df100.label.value_counts())"
   ]
  },
  {
   "cell_type": "code",
   "execution_count": 6,
   "metadata": {},
   "outputs": [
    {
     "name": "stdout",
     "output_type": "stream",
     "text": [
      "(80000, 3)\n",
      "(20000, 3)\n"
     ]
    }
   ],
   "source": [
    "# Train set is 80% and validation set is 20% of 'df100' dataset\n",
    "\n",
    "y = df100.label #stratify will give equal number of labels per class in each set\n",
    "\n",
    "# split the 100K images into train and validation sets\n",
    "train_df, val_df = train_test_split(df100, test_size=0.20, random_state=101, stratify=y)\n",
    "\n",
    "print(train_df.shape)\n",
    "print(val_df.shape)"
   ]
  },
  {
   "cell_type": "code",
   "execution_count": 7,
   "metadata": {},
   "outputs": [
    {
     "data": {
      "text/plain": [
       "1    10000\n",
       "0    10000\n",
       "Name: label, dtype: int64"
      ]
     },
     "execution_count": 7,
     "metadata": {},
     "output_type": "execute_result"
    }
   ],
   "source": [
    "val_df.label.value_counts()"
   ]
  },
  {
   "cell_type": "code",
   "execution_count": 8,
   "metadata": {},
   "outputs": [
    {
     "data": {
      "text/plain": [
       "1    40000\n",
       "0    40000\n",
       "Name: label, dtype: int64"
      ]
     },
     "execution_count": 8,
     "metadata": {},
     "output_type": "execute_result"
    }
   ],
   "source": [
    "train_df.label.value_counts()"
   ]
  },
  {
   "cell_type": "markdown",
   "metadata": {},
   "source": [
    "## Create Directories\n",
    "Here, I separate and copy the images into subdirectories based on their label. I create a base directory, and then, two subdirectories for the training and validiation sets. Each of those two directories have two more subdirectories for each class (no_cancer and yes_cancer). "
   ]
  },
  {
   "cell_type": "code",
   "execution_count": 9,
   "metadata": {},
   "outputs": [],
   "source": [
    "# Create a new directory\n",
    "os.mkdir('base_dir')\n",
    "\n",
    "# Subdirectories for both train and val sets\n",
    "os.mkdir('base_dir/train_dir')\n",
    "os.mkdir('base_dir/val_dir')\n",
    "\n",
    "# More subdirectories for each label\n",
    "# train_dir\n",
    "os.mkdir('base_dir/train_dir/no_cancer')\n",
    "os.mkdir('base_dir/train_dir/yes_cancer')\n",
    "\n",
    "# val_dir\n",
    "os.mkdir('base_dir/val_dir/no_cancer')\n",
    "os.mkdir('base_dir/val_dir/yes_cancer')"
   ]
  },
  {
   "cell_type": "code",
   "execution_count": 10,
   "metadata": {},
   "outputs": [
    {
     "name": "stdout",
     "output_type": "stream",
     "text": [
      "CPU times: user 51min 30s, sys: 28.6 s, total: 51min 58s\n",
      "Wall time: 1h 7min 48s\n"
     ]
    }
   ],
   "source": [
    "%%time\n",
    "# Copy images into subdirectories\n",
    "\n",
    "# get image ids \n",
    "train_ids = train_df.id.values\n",
    "val_ids = val_df.id.values\n",
    "\n",
    "# place images into corresponding directories\n",
    "# training set\n",
    "for img_id in train_ids:\n",
    "    fname = img_id + '.tif'\n",
    "    # get label for image file\n",
    "    flabel = df100.loc[df100.id==img_id].label.values[0]\n",
    "    if flabel == 0:\n",
    "        subdir = 'no_cancer'\n",
    "    elif flabel == 1:\n",
    "        subdir = 'yes_cancer'\n",
    "    # copy image from source location to new location\n",
    "    src_loc = df100.loc[df100.id==img_id].path.values[0]\n",
    "    new_loc = os.path.join('base_dir/train_dir', subdir, fname)\n",
    "    shutil.copyfile(src_loc, new_loc)\n",
    "\n",
    "# validation set\n",
    "for img_id in val_ids:\n",
    "    fname = img_id + '.tif'\n",
    "    # get label for image file\n",
    "    flabel = df100.loc[df100.id==img_id].label.values[0]\n",
    "    if flabel == 0:\n",
    "        subdir = 'no_cancer'\n",
    "    elif flabel == 1:\n",
    "        subdir = 'yes_cancer'\n",
    "    # copy image from source location to new location\n",
    "    src_loc = df100.loc[df100.id==img_id].path.values[0]\n",
    "    new_loc = os.path.join('base_dir/val_dir', subdir, fname)\n",
    "    shutil.copyfile(src_loc, new_loc)"
   ]
  },
  {
   "cell_type": "code",
   "execution_count": 11,
   "metadata": {},
   "outputs": [
    {
     "name": "stdout",
     "output_type": "stream",
     "text": [
      "train_dir:\n",
      "40000\n",
      "40000\n",
      "\n",
      "val_dir:\n",
      "10000\n",
      "10000\n"
     ]
    }
   ],
   "source": [
    "# Check the number of images is same as in dataframes\n",
    "print(\"train_dir:\")\n",
    "print(len(os.listdir('base_dir/train_dir/no_cancer')))\n",
    "print(len(os.listdir('base_dir/train_dir/yes_cancer')))\n",
    "\n",
    "print(\"\\nval_dir:\")\n",
    "print(len(os.listdir('base_dir/val_dir/no_cancer')))\n",
    "print(len(os.listdir('base_dir/val_dir/yes_cancer')))"
   ]
  },
  {
   "cell_type": "markdown",
   "metadata": {},
   "source": [
    "***\n",
    "# **Train Model**\n",
    "This section includes the model creation process. First, I start with processing the images, developing the model architecture and training the model with the training dataset."
   ]
  },
  {
   "cell_type": "markdown",
   "metadata": {},
   "source": [
    "## Prepare Generators"
   ]
  },
  {
   "cell_type": "code",
   "execution_count": 80,
   "metadata": {},
   "outputs": [],
   "source": [
    "train_path = 'base_dir/train_dir'\n",
    "val_path = 'base_dir/val_dir'\n",
    "\n",
    "num_train_samples = len(train_df)\n",
    "num_val_samples = len(val_df)\n",
    "train_batch_size = 32\n",
    "val_batch_size = 32\n",
    "IMAGE_SIZE = 96\n",
    "\n",
    "train_steps = np.ceil(num_train_samples / train_batch_size)\n",
    "val_steps = np.ceil(num_val_samples / val_batch_size)"
   ]
  },
  {
   "cell_type": "code",
   "execution_count": 81,
   "metadata": {},
   "outputs": [
    {
     "name": "stdout",
     "output_type": "stream",
     "text": [
      "Found 80000 images belonging to 2 classes.\n",
      "Found 20000 images belonging to 2 classes.\n",
      "Found 20000 images belonging to 2 classes.\n"
     ]
    }
   ],
   "source": [
    "preprocess_func = lambda x:(x - x.mean()) / x.std() if x.std() > 0 else x\n",
    "datagen = ImageDataGenerator(preprocessing_function = preprocess_func,\n",
    "                            horizontal_flip=True,vertical_flip=True)\n",
    "# training images\n",
    "train_generator = datagen.flow_from_directory(train_path, target_size=(IMAGE_SIZE,IMAGE_SIZE),\n",
    "                                        batch_size=train_batch_size, class_mode='binary')\n",
    "# validation images\n",
    "val_generator = datagen.flow_from_directory(val_path, target_size=(IMAGE_SIZE,IMAGE_SIZE),\n",
    "                                        batch_size=val_batch_size, class_mode='binary')\n",
    "# validation images used in evaluation\n",
    "test_generator = datagen.flow_from_directory(val_path, target_size=(IMAGE_SIZE,IMAGE_SIZE),\n",
    "                                        batch_size=1, class_mode='binary', shuffle=False)"
   ]
  },
  {
   "cell_type": "markdown",
   "metadata": {},
   "source": [
    "## Build Model"
   ]
  },
  {
   "cell_type": "code",
   "execution_count": 82,
   "metadata": {},
   "outputs": [
    {
     "name": "stdout",
     "output_type": "stream",
     "text": [
      "Model: \"sequential_5\"\n",
      "_________________________________________________________________\n",
      "Layer (type)                 Output Shape              Param #   \n",
      "=================================================================\n",
      "conv2d_30 (Conv2D)           (None, 94, 94, 32)        896       \n",
      "_________________________________________________________________\n",
      "conv2d_31 (Conv2D)           (None, 92, 92, 32)        9216      \n",
      "_________________________________________________________________\n",
      "batch_normalization_30 (Batc (None, 92, 92, 32)        128       \n",
      "_________________________________________________________________\n",
      "activation_30 (Activation)   (None, 92, 92, 32)        0         \n",
      "_________________________________________________________________\n",
      "max_pooling2d_15 (MaxPooling (None, 46, 46, 32)        0         \n",
      "_________________________________________________________________\n",
      "dropout_20 (Dropout)         (None, 46, 46, 32)        0         \n",
      "_________________________________________________________________\n",
      "conv2d_32 (Conv2D)           (None, 44, 44, 64)        18432     \n",
      "_________________________________________________________________\n",
      "batch_normalization_31 (Batc (None, 44, 44, 64)        256       \n",
      "_________________________________________________________________\n",
      "activation_31 (Activation)   (None, 44, 44, 64)        0         \n",
      "_________________________________________________________________\n",
      "conv2d_33 (Conv2D)           (None, 42, 42, 64)        36864     \n",
      "_________________________________________________________________\n",
      "batch_normalization_32 (Batc (None, 42, 42, 64)        256       \n",
      "_________________________________________________________________\n",
      "activation_32 (Activation)   (None, 42, 42, 64)        0         \n",
      "_________________________________________________________________\n",
      "max_pooling2d_16 (MaxPooling (None, 21, 21, 64)        0         \n",
      "_________________________________________________________________\n",
      "dropout_21 (Dropout)         (None, 21, 21, 64)        0         \n",
      "_________________________________________________________________\n",
      "conv2d_34 (Conv2D)           (None, 19, 19, 128)       73728     \n",
      "_________________________________________________________________\n",
      "batch_normalization_33 (Batc (None, 19, 19, 128)       512       \n",
      "_________________________________________________________________\n",
      "activation_33 (Activation)   (None, 19, 19, 128)       0         \n",
      "_________________________________________________________________\n",
      "conv2d_35 (Conv2D)           (None, 17, 17, 128)       147456    \n",
      "_________________________________________________________________\n",
      "batch_normalization_34 (Batc (None, 17, 17, 128)       512       \n",
      "_________________________________________________________________\n",
      "activation_34 (Activation)   (None, 17, 17, 128)       0         \n",
      "_________________________________________________________________\n",
      "max_pooling2d_17 (MaxPooling (None, 8, 8, 128)         0         \n",
      "_________________________________________________________________\n",
      "dropout_22 (Dropout)         (None, 8, 8, 128)         0         \n",
      "_________________________________________________________________\n",
      "flatten_5 (Flatten)          (None, 8192)              0         \n",
      "_________________________________________________________________\n",
      "dense_10 (Dense)             (None, 256)               2097152   \n",
      "_________________________________________________________________\n",
      "batch_normalization_35 (Batc (None, 256)               1024      \n",
      "_________________________________________________________________\n",
      "activation_35 (Activation)   (None, 256)               0         \n",
      "_________________________________________________________________\n",
      "dropout_23 (Dropout)         (None, 256)               0         \n",
      "_________________________________________________________________\n",
      "dense_11 (Dense)             (None, 1)                 257       \n",
      "=================================================================\n",
      "Total params: 2,386,689\n",
      "Trainable params: 2,385,345\n",
      "Non-trainable params: 1,344\n",
      "_________________________________________________________________\n"
     ]
    }
   ],
   "source": [
    "# Model \n",
    "\n",
    "# Parameters\n",
    "kernel_size = (3,3)\n",
    "pool_size= (2,2)\n",
    "first_filters = 32\n",
    "second_filters = 64\n",
    "third_filters = 128\n",
    "# Dropout for regularization\n",
    "dropout_conv = 0.3\n",
    "dropout_dense = 0.5\n",
    "\n",
    "# Initialize model\n",
    "model = Sequential()\n",
    "\n",
    "# Block 1\n",
    "model.add(Conv2D(first_filters, kernel_size, activation = 'relu', input_shape = (96, 96, 3)))\n",
    "model.add(Conv2D(first_filters, kernel_size, use_bias=False))\n",
    "model.add(BatchNormalization())\n",
    "model.add(Activation(\"relu\"))\n",
    "model.add(MaxPool2D(pool_size = pool_size)) \n",
    "model.add(Dropout(dropout_conv))\n",
    "\n",
    "# Block 2\n",
    "model.add(Conv2D(second_filters, kernel_size, use_bias=False))\n",
    "model.add(BatchNormalization())\n",
    "model.add(Activation(\"relu\"))\n",
    "model.add(Conv2D(second_filters, kernel_size, use_bias=False))\n",
    "model.add(BatchNormalization())\n",
    "model.add(Activation(\"relu\"))\n",
    "model.add(MaxPool2D(pool_size = pool_size))\n",
    "model.add(Dropout(dropout_conv))\n",
    "\n",
    "# Block 3\n",
    "model.add(Conv2D(third_filters, kernel_size, use_bias=False))\n",
    "model.add(BatchNormalization())\n",
    "model.add(Activation(\"relu\"))\n",
    "model.add(Conv2D(third_filters, kernel_size, use_bias=False))\n",
    "model.add(BatchNormalization())\n",
    "model.add(Activation(\"relu\"))\n",
    "model.add(MaxPool2D(pool_size = pool_size))\n",
    "model.add(Dropout(dropout_conv))\n",
    "\n",
    "# Block 4: Dense \n",
    "model.add(Flatten())\n",
    "model.add(Dense(256, use_bias=False))\n",
    "model.add(BatchNormalization())\n",
    "model.add(Activation(\"relu\"))\n",
    "model.add(Dropout(dropout_dense))\n",
    "\n",
    "model.add(Dense(1, activation = \"sigmoid\"))\n",
    "\n",
    "model.summary()"
   ]
  },
  {
   "cell_type": "code",
   "execution_count": 83,
   "metadata": {},
   "outputs": [],
   "source": [
    "# Compile the model\n",
    "# binary cross entropy is good for binary classification problems\n",
    "model.compile(optimizer=Adam(lr=0.01), loss = \"binary_crossentropy\", \n",
    "              metrics=[\"accuracy\"])"
   ]
  },
  {
   "cell_type": "markdown",
   "metadata": {},
   "source": [
    "## Train Model"
   ]
  },
  {
   "cell_type": "code",
   "execution_count": 84,
   "metadata": {},
   "outputs": [
    {
     "name": "stdout",
     "output_type": "stream",
     "text": [
      "\n",
      "Epoch 00004: ReduceLROnPlateau reducing learning rate to 0.0019999999552965165.\n",
      "\n",
      "Epoch 00007: ReduceLROnPlateau reducing learning rate to 0.0003999999724328518.\n",
      "\n",
      "Epoch 00008: ReduceLROnPlateau reducing learning rate to 7.999999215826393e-05.\n",
      "\n",
      "Epoch 00009: ReduceLROnPlateau reducing learning rate to 1.599999814061448e-05.\n",
      "\n",
      "Epoch 00010: ReduceLROnPlateau reducing learning rate to 3.199999628122896e-06.\n",
      "\n",
      "Epoch 00011: ReduceLROnPlateau reducing learning rate to 6.399999165296323e-07.\n",
      "\n",
      "Epoch 00012: ReduceLROnPlateau reducing learning rate to 1.2799998785339995e-07.\n",
      "\n",
      "Epoch 00013: ReduceLROnPlateau reducing learning rate to 2.5599996433811613e-08.\n",
      "\n",
      "Epoch 00014: ReduceLROnPlateau reducing learning rate to 5.1199993578165965e-09.\n",
      "\n",
      "Epoch 00015: ReduceLROnPlateau reducing learning rate to 1.023999907090456e-09.\n",
      "Restoring model weights from the end of the best epoch.\n",
      "\n",
      "Epoch 00016: ReduceLROnPlateau reducing learning rate to 2.0479997697719911e-10.\n",
      "Epoch 00016: early stopping\n",
      "CPU times: user 37min 8s, sys: 1min 30s, total: 38min 39s\n",
      "Wall time: 32min 7s\n"
     ]
    }
   ],
   "source": [
    "%%time\n",
    "# Based off on https://www.kaggle.com/fmarazzi/baseline-keras-cnn-roc-fast-10min-0-925-lb\n",
    "\n",
    "# training stops early if validation loss doesn't improve (decrease)\n",
    "earlystopper = EarlyStopping(monitor='val_loss', mode='auto', patience=10, \n",
    "                             verbose=1, restore_best_weights=True)\n",
    "# reduce learning rate based on validation loss\n",
    "reduce_lr = ReduceLROnPlateau(monitor='val_loss', mode='auto', patience=1, \n",
    "                              verbose=1, factor=0.2)\n",
    "\n",
    "callbacks_list = [earlystopper, reduce_lr]\n",
    "\n",
    "history = model.fit(train_generator, steps_per_epoch=train_steps, \n",
    "                    validation_data=val_generator,\n",
    "                    validation_steps=val_steps,\n",
    "                    epochs=20, verbose=0,\n",
    "                   callbacks=callbacks_list)"
   ]
  },
  {
   "cell_type": "code",
   "execution_count": 96,
   "metadata": {},
   "outputs": [],
   "source": [
    "# Save model architecture and weights\n",
    "# Then, this file can be loaded, instead of re-running training process\n",
    "model.save(\"model.h5\")"
   ]
  },
  {
   "cell_type": "markdown",
   "metadata": {},
   "source": [
    "***\n",
    "# **Evaluation**\n",
    "Here, I view some metrics to evaluate how well the model performed in comparison to the validation set."
   ]
  },
  {
   "cell_type": "code",
   "execution_count": 97,
   "metadata": {},
   "outputs": [
    {
     "data": {
      "text/plain": [
       "['loss', 'accuracy']"
      ]
     },
     "execution_count": 97,
     "metadata": {},
     "output_type": "execute_result"
    }
   ],
   "source": [
    "model.metrics_names"
   ]
  },
  {
   "cell_type": "markdown",
   "metadata": {},
   "source": [
    "## View Accuracy and Loss"
   ]
  },
  {
   "cell_type": "code",
   "execution_count": 98,
   "metadata": {},
   "outputs": [],
   "source": [
    "# modified version of function from \n",
    "# https://www.kaggle.com/twhitehurst3/cancer-detect-keras-92-acc\n",
    "\n",
    "# Plot accuracy and validation for both sets\n",
    "def show_final_history(history):\n",
    "    fig, ax = plt.subplots(1, 2, figsize=(16,5))\n",
    "    ax[0].set_title('Loss')\n",
    "    ax[0].plot(history.epoch, history.history[\"loss\"], 'lightcoral', label=\"Train Loss\")\n",
    "    ax[0].plot(history.epoch, history.history[\"val_loss\"], 'cornflowerblue', label=\"Validation Loss\")\n",
    "    ax[0].set_xlabel(\"Epochs\")\n",
    "    ax[1].set_title('Accuracy')\n",
    "    ax[1].plot(history.epoch, history.history[\"accuracy\"], 'lightcoral', label=\"Train Accuracy\")\n",
    "    ax[1].plot(history.epoch, history.history[\"val_accuracy\"], 'cornflowerblue', label=\"Validation Accuracy\")\n",
    "    ax[1].set_xlabel(\"Epochs\")\n",
    "    ax[0].legend()\n",
    "    ax[1].legend()"
   ]
  },
  {
   "cell_type": "code",
   "execution_count": 99,
   "metadata": {},
   "outputs": [
    {
     "name": "stdout",
     "output_type": "stream",
     "text": [
      "Validation Accuracy: 0.897350013256073; Train Accuracy: 0.902525007724762\n"
     ]
    }
   ],
   "source": [
    "# View the accuracy for each dataset\n",
    "train_loss, train_acc = model.evaluate(train_generator, verbose=0)\n",
    "valid_loss, val_acc = model.evaluate(val_generator, verbose=0)\n",
    "print(f\"Validation Accuracy: {val_acc}; Train Accuracy: {train_acc}\")"
   ]
  },
  {
   "cell_type": "code",
   "execution_count": 100,
   "metadata": {},
   "outputs": [
    {
     "data": {
      "image/png": "[encoded data removed]",
      "text/plain": [
       "<Figure size 1152x360 with 2 Axes>"
      ]
     },
     "metadata": {
      "needs_background": "light"
     },
     "output_type": "display_data"
    }
   ],
   "source": [
    "show_final_history(history)"
   ]
  },
  {
   "cell_type": "markdown",
   "metadata": {},
   "source": [
    "## Evaluate Validation Set"
   ]
  },
  {
   "cell_type": "code",
   "execution_count": 101,
   "metadata": {},
   "outputs": [
    {
     "name": "stdout",
     "output_type": "stream",
     "text": [
      "20000/20000 [==============================] - 59s 3ms/step\n",
      "AUC: 0.9708209999999999\n"
     ]
    }
   ],
   "source": [
    "# Validation predictions\n",
    "\n",
    "# use trained model to predict labels for validation set (test_generator)\n",
    "val_pred = model.predict(test_generator, verbose=1)\n",
    "# false positive rate, true positive rate\n",
    "fpr, tpr, thresholds = roc_curve(test_generator.classes, val_pred)\n",
    "auc_val = auc(fpr, tpr)\n",
    "print(\"AUC:\", auc_val)"
   ]
  },
  {
   "cell_type": "code",
   "execution_count": 102,
   "metadata": {},
   "outputs": [
    {
     "data": {
      "image/png": "[encoded data removed]",
      "text/plain": [
       "<Figure size 432x288 with 1 Axes>"
      ]
     },
     "metadata": {
      "needs_background": "light"
     },
     "output_type": "display_data"
    }
   ],
   "source": [
    "# Based on https://www.kaggle.com/fmarazzi/baseline-keras-cnn-roc-fast-10min-0-925-lb \n",
    "\n",
    "# Plot ROC curve of validation predictions\n",
    "\n",
    "plt.plot([0, 1], [0, 1], 'k--')\n",
    "plt.plot(fpr, tpr, label=f'AUC = {auc_val}')\n",
    "plt.xlabel('False Positive Rate')\n",
    "plt.ylabel('True Positive Rate')\n",
    "plt.title('ROC Curve')\n",
    "plt.legend(loc='best');"
   ]
  },
  {
   "cell_type": "markdown",
   "metadata": {},
   "source": [
    "***\n",
    "# **Predict Test Data**\n",
    "Finally, I use the trained model to make predictions for the test dataset and create the submission file with probabilities for each image."
   ]
  },
  {
   "cell_type": "code",
   "execution_count": 103,
   "metadata": {},
   "outputs": [
    {
     "data": {
      "text/html": [
       "<div>\n",
       "<style scoped>\n",
       "    .dataframe tbody tr th:only-of-type {\n",
       "        vertical-align: middle;\n",
       "    }\n",
       "\n",
       "    .dataframe tbody tr th {\n",
       "        vertical-align: top;\n",
       "    }\n",
       "\n",
       "    .dataframe thead th {\n",
       "        text-align: right;\n",
       "    }\n",
       "</style>\n",
       "<table border=\"1\" class=\"dataframe\">\n",
       "  <thead>\n",
       "    <tr style=\"text-align: right;\">\n",
       "      <th></th>\n",
       "      <th>path</th>\n",
       "      <th>id</th>\n",
       "    </tr>\n",
       "  </thead>\n",
       "  <tbody>\n",
       "    <tr>\n",
       "      <th>0</th>\n",
       "      <td>../input/histopathologic-cancer-detection/test...</td>\n",
       "      <td>a7ea26360815d8492433b14cd8318607bcf99d9e</td>\n",
       "    </tr>\n",
       "    <tr>\n",
       "      <th>1</th>\n",
       "      <td>../input/histopathologic-cancer-detection/test...</td>\n",
       "      <td>59d21133c845dff1ebc7a0c7cf40c145ea9e9664</td>\n",
       "    </tr>\n",
       "    <tr>\n",
       "      <th>2</th>\n",
       "      <td>../input/histopathologic-cancer-detection/test...</td>\n",
       "      <td>5fde41ce8c6048a5c2f38eca12d6528fa312cdbb</td>\n",
       "    </tr>\n",
       "  </tbody>\n",
       "</table>\n",
       "</div>"
      ],
      "text/plain": [
       "                                                path  \\\n",
       "0  ../input/histopathologic-cancer-detection/test...   \n",
       "1  ../input/histopathologic-cancer-detection/test...   \n",
       "2  ../input/histopathologic-cancer-detection/test...   \n",
       "\n",
       "                                         id  \n",
       "0  a7ea26360815d8492433b14cd8318607bcf99d9e  \n",
       "1  59d21133c845dff1ebc7a0c7cf40c145ea9e9664  \n",
       "2  5fde41ce8c6048a5c2f38eca12d6528fa312cdbb  "
      ]
     },
     "execution_count": 103,
     "metadata": {},
     "output_type": "execute_result"
    }
   ],
   "source": [
    "# Test df where the paths and ids are stored\n",
    "test.head(3)"
   ]
  },
  {
   "cell_type": "code",
   "execution_count": 90,
   "metadata": {},
   "outputs": [
    {
     "name": "stdout",
     "output_type": "stream",
     "text": [
      "Completed batch of images: 0 - 10000\n",
      "Completed batch of images: 10000 - 20000\n",
      "Completed batch of images: 20000 - 30000\n",
      "Completed batch of images: 30000 - 40000\n",
      "Completed batch of images: 40000 - 50000\n",
      "Completed batch of images: 50000 - 60000\n",
      "CPU times: user 32.3 s, sys: 22.1 s, total: 54.4 s\n",
      "Wall time: 5min 54s\n"
     ]
    }
   ],
   "source": [
    "%%time\n",
    "# Predict labels for test data\n",
    "# Based on https://www.kaggle.com/twhitehurst3/cancer-detect-keras-92-acc \n",
    "\n",
    "# initialize submission dataframe\n",
    "submission = pd.DataFrame()\n",
    "file_batch = 10000\n",
    "num_images = test.shape[0]\n",
    "\n",
    "# make predictions for test data in batches of images\n",
    "for i in range(0, num_images, file_batch):\n",
    "    # get batch of image files\n",
    "    batch_df = test[i:i+file_batch].copy()\n",
    "    # read all images in current batch\n",
    "    batch_df['image'] = batch_df.path.map(cv2.imread) \n",
    "    image_arrays = np.stack(batch_df.image.values)\n",
    "    # (\"de-meaned\" array) / (std of array)\n",
    "    image_arrays = (image_arrays - image_arrays.mean()) / image_arrays.std()\n",
    "    # predict labels for the test dataset\n",
    "    batch_pred = model.predict(image_arrays, verbose=0)\n",
    "    batch_df['label'] = batch_pred\n",
    "    submission = pd.concat([submission, batch_df[['id', 'label']]])\n",
    "    print(f\"Completed batch of images: {i} - {i+file_batch}\")"
   ]
  },
  {
   "cell_type": "code",
   "execution_count": 91,
   "metadata": {},
   "outputs": [
    {
     "data": {
      "text/html": [
       "<div>\n",
       "<style scoped>\n",
       "    .dataframe tbody tr th:only-of-type {\n",
       "        vertical-align: middle;\n",
       "    }\n",
       "\n",
       "    .dataframe tbody tr th {\n",
       "        vertical-align: top;\n",
       "    }\n",
       "\n",
       "    .dataframe thead th {\n",
       "        text-align: right;\n",
       "    }\n",
       "</style>\n",
       "<table border=\"1\" class=\"dataframe\">\n",
       "  <thead>\n",
       "    <tr style=\"text-align: right;\">\n",
       "      <th></th>\n",
       "      <th>id</th>\n",
       "      <th>label</th>\n",
       "    </tr>\n",
       "  </thead>\n",
       "  <tbody>\n",
       "    <tr>\n",
       "      <th>0</th>\n",
       "      <td>a7ea26360815d8492433b14cd8318607bcf99d9e</td>\n",
       "      <td>0.468713</td>\n",
       "    </tr>\n",
       "    <tr>\n",
       "      <th>1</th>\n",
       "      <td>59d21133c845dff1ebc7a0c7cf40c145ea9e9664</td>\n",
       "      <td>0.086067</td>\n",
       "    </tr>\n",
       "    <tr>\n",
       "      <th>2</th>\n",
       "      <td>5fde41ce8c6048a5c2f38eca12d6528fa312cdbb</td>\n",
       "      <td>0.106600</td>\n",
       "    </tr>\n",
       "  </tbody>\n",
       "</table>\n",
       "</div>"
      ],
      "text/plain": [
       "                                         id     label\n",
       "0  a7ea26360815d8492433b14cd8318607bcf99d9e  0.468713\n",
       "1  59d21133c845dff1ebc7a0c7cf40c145ea9e9664  0.086067\n",
       "2  5fde41ce8c6048a5c2f38eca12d6528fa312cdbb  0.106600"
      ]
     },
     "execution_count": 91,
     "metadata": {},
     "output_type": "execute_result"
    }
   ],
   "source": [
    "submission.head(3)"
   ]
  },
  {
   "cell_type": "code",
   "execution_count": 92,
   "metadata": {},
   "outputs": [],
   "source": [
    "# Save submission file\n",
    "submission.to_csv(\"submission.csv\", index=False, header=True) #make csv file"
   ]
  },
  {
   "cell_type": "code",
   "execution_count": 93,
   "metadata": {},
   "outputs": [
    {
     "data": {
      "text/html": [
       "<div>\n",
       "<style scoped>\n",
       "    .dataframe tbody tr th:only-of-type {\n",
       "        vertical-align: middle;\n",
       "    }\n",
       "\n",
       "    .dataframe tbody tr th {\n",
       "        vertical-align: top;\n",
       "    }\n",
       "\n",
       "    .dataframe thead th {\n",
       "        text-align: right;\n",
       "    }\n",
       "</style>\n",
       "<table border=\"1\" class=\"dataframe\">\n",
       "  <thead>\n",
       "    <tr style=\"text-align: right;\">\n",
       "      <th></th>\n",
       "      <th>id</th>\n",
       "      <th>label</th>\n",
       "    </tr>\n",
       "  </thead>\n",
       "  <tbody>\n",
       "    <tr>\n",
       "      <th>0</th>\n",
       "      <td>a7ea26360815d8492433b14cd8318607bcf99d9e</td>\n",
       "      <td>0.468713</td>\n",
       "    </tr>\n",
       "    <tr>\n",
       "      <th>1</th>\n",
       "      <td>59d21133c845dff1ebc7a0c7cf40c145ea9e9664</td>\n",
       "      <td>0.086067</td>\n",
       "    </tr>\n",
       "    <tr>\n",
       "      <th>2</th>\n",
       "      <td>5fde41ce8c6048a5c2f38eca12d6528fa312cdbb</td>\n",
       "      <td>0.106600</td>\n",
       "    </tr>\n",
       "  </tbody>\n",
       "</table>\n",
       "</div>"
      ],
      "text/plain": [
       "                                         id     label\n",
       "0  a7ea26360815d8492433b14cd8318607bcf99d9e  0.468713\n",
       "1  59d21133c845dff1ebc7a0c7cf40c145ea9e9664  0.086067\n",
       "2  5fde41ce8c6048a5c2f38eca12d6528fa312cdbb  0.106600"
      ]
     },
     "execution_count": 93,
     "metadata": {},
     "output_type": "execute_result"
    }
   ],
   "source": [
    "pd.read_csv(\"submission.csv\").head(3)"
   ]
  },
  {
   "cell_type": "markdown",
   "metadata": {},
   "source": [
    "***\n",
    "# **Resources**\n",
    "\n",
    "Kaggle Notebooks:\n",
    "* https://www.kaggle.com/vbookshelf/cnn-how-to-use-160-000-images-without-crashing\n",
    "* https://www.kaggle.com/twhitehurst3/cancer-detect-keras-92-acc\n",
    "* https://www.kaggle.com/fmarazzi/baseline-keras-cnn-roc-fast-10min-0-925-lb\n",
    "* https://www.kaggle.com/gomezp/complete-beginner-s-guide-eda-keras-lb-0-93\n"
   ]
  }
 ],
 "metadata": {
  "kernelspec": {
   "display_name": "Python 3",
   "language": "python",
   "name": "python3"
  },
  "language_info": {
   "codemirror_mode": {
    "name": "ipython",
    "version": 3
   },
   "file_extension": ".py",
   "mimetype": "text/x-python",
   "name": "python",
   "nbconvert_exporter": "python",
   "pygments_lexer": "ipython3",
   "version": "3.9.1"
  }
 },
 "nbformat": 4,
 "nbformat_minor": 4
}
